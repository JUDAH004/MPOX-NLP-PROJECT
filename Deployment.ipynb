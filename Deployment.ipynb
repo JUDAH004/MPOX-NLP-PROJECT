{
 "cells": [
  {
   "cell_type": "markdown",
   "id": "f3436dc8",
   "metadata": {},
   "source": [
    "### **(I)** **Deployment**"
   ]
  },
  {
   "cell_type": "markdown",
   "id": "5423c9cc",
   "metadata": {},
   "source": [
    " - To make the Mpox Instagram NLP models easily accessible and interactive, we deployed them using Gradio, a Python library that allows you to create clean web-based interfaces for machine learning models.\n",
    "\n",
    " - This deployment serves two main purposes:\n",
    "\n",
    " - Enable real-time predictions for:\n",
    "\n",
    "   - **Sentiment Analysis (via XGBoost)**\n",
    "\n",
    "   - **Hate Speech Detection (via LightGBM)**\n",
    "\n",
    " - Provide model transparency through LIME explainability, allowing users to see which words most influenced each prediction.\n",
    "\n",
    "**Key Features of the App**\n",
    "\n",
    " - Users input an Instagram post related to Mpox.\n",
    "\n",
    " - They choose between:\n",
    "\n",
    "   - Sentiment Classification: Predicts emotional tone (e.g., fear, joy, sadness).\n",
    "\n",
    "   - Hate Speech Detection: Classifies whether the post is hateful or not.\n",
    "\n",
    " - The system:\n",
    "\n",
    "   - Cleans the text using NLP preprocessing.\n",
    "\n",
    "   - Passes it through a trained model pipeline (TF-IDF + classifier).\n",
    "\n",
    " - Shows the **predicted class**, **class probabilities**, and a **LIME visualization** of the most influential words."
   ]
  },
  {
   "cell_type": "code",
   "execution_count": null,
   "id": "983ddaee",
   "metadata": {},
   "outputs": [],
   "source": [
    "#%pip install gradio"
   ]
  },
  {
   "cell_type": "code",
   "execution_count": null,
   "id": "9ecc0ddc",
   "metadata": {},
   "outputs": [],
   "source": [
    "#%pip install markupsafe==2.0.1"
   ]
  },
  {
   "cell_type": "code",
   "execution_count": null,
   "id": "d33bf24c",
   "metadata": {},
   "outputs": [],
   "source": [
    "#%pip install --upgrade click"
   ]
  },
  {
   "cell_type": "code",
   "execution_count": null,
   "id": "efbaa932",
   "metadata": {},
   "outputs": [
    {
     "name": "stderr",
     "output_type": "stream",
     "text": [
      "[nltk_data] Downloading package stopwords to\n",
      "[nltk_data]     C:\\Users\\JUDAH\\AppData\\Roaming\\nltk_data...\n",
      "[nltk_data]   Package stopwords is already up-to-date!\n",
      "[nltk_data] Downloading package wordnet to\n",
      "[nltk_data]     C:\\Users\\JUDAH\\AppData\\Roaming\\nltk_data...\n",
      "[nltk_data]   Package wordnet is already up-to-date!\n"
     ]
    },
    {
     "name": "stdout",
     "output_type": "stream",
     "text": [
      "Running on local URL:  http://127.0.0.1:7861\n",
      "Running on public URL: https://de934a331bba2f1fda.gradio.live\n",
      "\n",
      "This share link expires in 72 hours. For free permanent hosting and GPU upgrades, run `gradio deploy` from Terminal to deploy to Spaces (https://huggingface.co/spaces)\n"
     ]
    },
    {
     "data": {
      "text/html": [
       "<div><iframe src=\"https://de934a331bba2f1fda.gradio.live\" width=\"100%\" height=\"500\" allow=\"autoplay; camera; microphone; clipboard-read; clipboard-write;\" frameborder=\"0\" allowfullscreen></iframe></div>"
      ],
      "text/plain": [
       "<IPython.core.display.HTML object>"
      ]
     },
     "metadata": {},
     "output_type": "display_data"
    },
    {
     "data": {
      "text/plain": []
     },
     "execution_count": 3,
     "metadata": {},
     "output_type": "execute_result"
    },
    {
     "name": "stderr",
     "output_type": "stream",
     "text": [
      "c:\\Users\\JUDAH\\anaconda3\\envs\\learn-env\\lib\\site-packages\\joblib\\externals\\loky\\backend\\context.py:136: UserWarning: Could not find the number of physical cores for the following reason:\n",
      "[WinError 2] The system cannot find the file specified\n",
      "Returning the number of logical cores instead. You can silence this warning by setting LOKY_MAX_CPU_COUNT to the number of cores you want to use.\n",
      "  warnings.warn(\n",
      "  File \"c:\\Users\\JUDAH\\anaconda3\\envs\\learn-env\\lib\\site-packages\\joblib\\externals\\loky\\backend\\context.py\", line 257, in _count_physical_cores\n",
      "    cpu_info = subprocess.run(\n",
      "  File \"c:\\Users\\JUDAH\\anaconda3\\envs\\learn-env\\lib\\subprocess.py\", line 489, in run\n",
      "    with Popen(*popenargs, **kwargs) as process:\n",
      "  File \"c:\\Users\\JUDAH\\anaconda3\\envs\\learn-env\\lib\\subprocess.py\", line 854, in __init__\n",
      "    self._execute_child(args, executable, preexec_fn, close_fds,\n",
      "  File \"c:\\Users\\JUDAH\\anaconda3\\envs\\learn-env\\lib\\subprocess.py\", line 1307, in _execute_child\n",
      "    hp, ht, pid, tid = _winapi.CreateProcess(executable, args,\n"
     ]
    },
    {
     "name": "stdout",
     "output_type": "stream",
     "text": [
      "Error while flagging: field larger than field limit (1000000)\n"
     ]
    }
   ],
   "source": [
    "import re #Regular expressions for text cleaning\n",
    "import joblib\n",
    "import numpy as np\n",
    "import gradio as gr\n",
    "import nltk\n",
    "from nltk.corpus import stopwords\n",
    "from nltk.stem import WordNetLemmatizer\n",
    "from lime.lime_text import LimeTextExplainer\n",
    "import csv\n",
    "import sys\n",
    "csv.field_size_limit(10**6)# Increase field size limit for CSV reading\n",
    "\n",
    "# Download NLTK resources\n",
    "nltk.download('stopwords')\n",
    "nltk.download('wordnet')\n",
    "\n",
    "# Load saved models and label encoder\n",
    "sentiment_model = joblib.load(\"xgb_sentiment_pipeline.pkl\")  # XGBoost pipeline\n",
    "hate_model = joblib.load(\"lightgbm_hate_speech_model.pkl\")   # LightGBM pipeline\n",
    "label_encoder = joblib.load(\"label_encoder.pkl\")              # LabelEncoder for sentiment labels\n",
    "\n",
    "# Text cleaning function\n",
    "stop_words = set(stopwords.words('english'))\n",
    "lemmatizer = WordNetLemmatizer()\n",
    "\n",
    "def clean_text(text):\n",
    "    text = text.lower()\n",
    "    text = re.sub(r\"http\\S+|www\\S+\", \"\", text)\n",
    "    text = re.sub(r\"[^a-z\\s]\", \"\", text)\n",
    "    words = text.split()\n",
    "    cleaned = [lemmatizer.lemmatize(w) for w in words if w not in stop_words]\n",
    "    return \" \".join(cleaned)\n",
    "\n",
    "# Prediction + LIME explainability function\n",
    "def classify_text(text, task):\n",
    "    cleaned = clean_text(text)\n",
    "\n",
    "    if task == \"Sentiment Analysis\":\n",
    "        pred_encoded = sentiment_model.predict([cleaned])[0]\n",
    "        pred_label = label_encoder.inverse_transform([pred_encoded])[0]\n",
    "        probs = sentiment_model.predict_proba([cleaned])[0]\n",
    "        class_labels = label_encoder.inverse_transform(np.arange(len(probs)))\n",
    "        class_probs = {label: float(prob) for label, prob in zip(class_labels, probs)}\n",
    "\n",
    "        # LIME Explanation\n",
    "        explainer = LimeTextExplainer(class_names=list(class_labels))\n",
    "        exp = explainer.explain_instance(cleaned, sentiment_model.predict_proba, num_features=6)\n",
    "        html_explanation = exp.as_html()\n",
    "\n",
    "        return f\" Predicted Sentiment: **{pred_label}**\", class_probs, html_explanation\n",
    "\n",
    "    elif task == \"Hate Speech Detection\":\n",
    "        pred = hate_model.predict([cleaned])[0]\n",
    "        probs = hate_model.predict_proba([cleaned])[0]\n",
    "        class_probs = {label: float(prob) for label, prob in zip(hate_model.classes_, probs)}\n",
    "\n",
    "        # LIME Explanation\n",
    "        explainer = LimeTextExplainer(class_names=list(hate_model.classes_))\n",
    "        exp = explainer.explain_instance(cleaned, hate_model.predict_proba, num_features=6)\n",
    "        html_explanation = exp.as_html()\n",
    "\n",
    "        return f\" Predicted Class: **{pred}**\", class_probs, html_explanation\n",
    "\n",
    "    else:\n",
    "        return \"Invalid task selected\", {}, \"\"\n",
    "\n",
    "# Gradio Interface\n",
    "interface = gr.Interface(\n",
    "    fn=classify_text,\n",
    "    inputs=[\n",
    "        gr.Textbox(lines=4, placeholder=\"Enter a post...\", label=\"Post\"),\n",
    "        gr.Radio(choices=[\"Sentiment Analysis\", \"Hate Speech Detection\"], label=\"Select Task\")\n",
    "    ],\n",
    "    outputs=[\n",
    "        gr.Markdown(label=\"Prediction\"),\n",
    "        gr.Label(label=\"Class Probabilities\"),\n",
    "        gr.HTML(label=\"LIME Explanation\")\n",
    "    ],\n",
    "    title=\" Mpox Instagram NLP Analyzer\",\n",
    "    description=\"Classify Mpox-related posts for sentiment or hate speech. View predictions and LIME-based word importance explanations.\",\n",
    ")\n",
    "\n",
    "interface.launch(share=True)\n"
   ]
  },
  {
   "cell_type": "code",
   "execution_count": null,
   "id": "1bc5a5e7",
   "metadata": {},
   "outputs": [],
   "source": []
  }
 ],
 "metadata": {
  "kernelspec": {
   "display_name": "learn-env",
   "language": "python",
   "name": "python3"
  },
  "language_info": {
   "codemirror_mode": {
    "name": "ipython",
    "version": 3
   },
   "file_extension": ".py",
   "mimetype": "text/x-python",
   "name": "python",
   "nbconvert_exporter": "python",
   "pygments_lexer": "ipython3",
   "version": "3.8.5"
  }
 },
 "nbformat": 4,
 "nbformat_minor": 5
}
